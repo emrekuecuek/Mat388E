{
 "cells": [
  {
   "cell_type": "markdown",
   "metadata": {},
   "source": [
    "# Homework 1\n",
    "\n",
    "This homeworks is about setting your computational environment.  \n"
   ]
  },
  {
   "cell_type": "markdown",
   "metadata": {},
   "source": [
    "## Task 1\n",
    "\n",
    "Setup a [github account](github.com) and upload your work directory there after completing the tasks below. Your work directory must have the following subfolders and nothing else:\n",
    "\n",
    "* `homeworks`: this is where you are going to keep homework notebooks\n",
    "* `data`: this is where you are going to keep tha data you use in your homeworks\n",
    "* `images`: this is where you are going to keep any images you generate \n",
    "* `other`: this is where you keep anything else\n",
    "\n",
    "The top directory should not containg anything else. Put your homework notebooks (including this one) in the `homeworks` directory."
   ]
  },
  {
   "cell_type": "code",
   "execution_count": 1,
   "metadata": {},
   "outputs": [],
   "source": [
    "import os\n",
    "\n",
    "assert [os.path.isdir(\"../\"+x) for x in ['homeworks','data','images','other']] == [True, True, True, True]\n",
    "assert os.path.isfile(\"../homeworks/HW1.ipynb\")"
   ]
  },
  {
   "cell_type": "markdown",
   "metadata": {},
   "source": [
    "## Task 2\n",
    "\n",
    "Install the following libraries using your python package manager:\n",
    "\n",
    "* [`numpy`](http://www.numpy.org/)\n",
    "* [`pandas`](https://pandas.pydata.org/)\n",
    "* [`scipy`](https://docs.scipy.org/doc/scipy/reference/index.html)\n",
    "* [`scikit-learn`](http://scikit-learn.org/stable/)\n",
    "* [`matplotlib`](https://matplotlib.org/)\n",
    "\n",
    "and then run the following cell:"
   ]
  },
  {
   "cell_type": "code",
   "execution_count": 2,
   "metadata": {},
   "outputs": [],
   "source": [
    "import numpy as np\n",
    "import pandas as pd\n",
    "from scipy import stats\n",
    "from sklearn.cluster import KMeans\n",
    "from sklearn.model_selection import train_test_split\n",
    "from sklearn.metrics.cluster import contingency_matrix\n",
    "from sklearn.datasets import load_iris\n",
    "from matplotlib import pyplot as plt"
   ]
  },
  {
   "cell_type": "markdown",
   "metadata": {},
   "source": [
    "## Task 3\n",
    "\n",
    "We will test if `numpy` is installed correctly.  Run the following cell. If `numpy` is installed correctly, the cell below will run quietly without an error and you will see no output."
   ]
  },
  {
   "cell_type": "code",
   "execution_count": 3,
   "metadata": {},
   "outputs": [],
   "source": [
    "a = np.matrix([[0,1],[1,0]])\n",
    "assert np.array_equal(a*a, np.eye(2)) == True"
   ]
  },
  {
   "cell_type": "markdown",
   "metadata": {},
   "source": [
    "## Task 4\n",
    "\n",
    "Next, we `scipy`.  Run the following cell. If `scipy` is installed correctly, the cell below will run quietly without an error and you will see no output."
   ]
  },
  {
   "cell_type": "code",
   "execution_count": 4,
   "metadata": {},
   "outputs": [],
   "source": [
    "a = np.array(stats.norm.rvs(size=3,random_state=1234))\n",
    "assert np.abs((a - np.array([0.47143516, -1.19097569,  1.43270697]))).sum() < 1e-7"
   ]
  },
  {
   "cell_type": "markdown",
   "metadata": {},
   "source": [
    "## Task 5\n",
    "\n",
    "Now, we will test if `pandas` is installed correctly.  Run the following cell. Make sure you are connected to the net. If `pandas` is installed correctly, the cell below will run quietly without an error and you will see no output."
   ]
  },
  {
   "cell_type": "code",
   "execution_count": 5,
   "metadata": {},
   "outputs": [],
   "source": [
    "iris = pd.read_csv(\"https://archive.ics.uci.edu/ml/machine-learning-databases/iris/iris.data\",\n",
    "                   sep=',',\n",
    "                   header=None)\n",
    "\n",
    "iris.to_csv(\"../data/iris.csv\", sep=',', header=False)\n",
    "\n",
    "assert iris.shape == (150, 5)\n",
    "assert os.path.isfile('../data/iris.csv') == True"
   ]
  },
  {
   "cell_type": "markdown",
   "metadata": {},
   "source": [
    "## Task 6\n",
    "\n",
    "Next, we will test `scikitlearn`.  Run the following cell and if `scikitlearn` is installed correctly, the cell below will run quietly without an error and you will see no output."
   ]
  },
  {
   "cell_type": "code",
   "execution_count": 6,
   "metadata": {},
   "outputs": [],
   "source": [
    "X_train,X_test, y_train, y_test = train_test_split(iris.iloc[:,0:4],iris.iloc[:,4],test_size=0.33)\n",
    "model = KMeans(n_clusters=3, random_state=42).fit(X_train)\n",
    "result = contingency_matrix(y_test,model.predict(X_test))\n",
    "\n",
    "assert X_train.shape == (100,4)\n",
    "assert model.random_state == 42\n",
    "assert result.shape == (3,3)"
   ]
  },
  {
   "cell_type": "markdown",
   "metadata": {},
   "source": [
    "## Task 7\n",
    "\n",
    "Finally, we test `matplotlib`.  I took the following code from [scipy lecture notes](https://www.scipy-lectures.org/packages/scikit-learn/auto_examples/plot_iris_scatter.html) with minor modification."
   ]
  },
  {
   "cell_type": "code",
   "execution_count": 7,
   "metadata": {},
   "outputs": [
    {
     "data": {
      "image/png": "[encoded data removed]",
      "text/plain": [
       "<Figure size 360x288 with 2 Axes>"
      ]
     },
     "metadata": {},
     "output_type": "display_data"
    }
   ],
   "source": [
    "iris = load_iris()\n",
    "\n",
    "x_index = 3\n",
    "y_index = 2\n",
    "\n",
    "formatter = plt.FuncFormatter(lambda i, *args: iris.target_names[int(i)])\n",
    "\n",
    "plt.figure(figsize=(5, 4))\n",
    "plt.scatter(iris.data[:, x_index], iris.data[:, y_index], c=iris.target)\n",
    "plt.colorbar(ticks=[0, 1, 2], format=formatter)\n",
    "plt.xlabel(iris.feature_names[x_index])\n",
    "plt.ylabel(iris.feature_names[y_index])\n",
    "\n",
    "plt.tight_layout()\n",
    "plt.savefig('../images/HW1-task6.png')\n",
    "plt.show()\n",
    "\n",
    "assert os.path.isfile('../images/HW1-task6.png')"
   ]
  },
  {
   "cell_type": "code",
   "execution_count": null,
   "metadata": {},
   "outputs": [],
   "source": []
  },
  {
   "cell_type": "code",
   "execution_count": null,
   "metadata": {},
   "outputs": [],
   "source": []
  }
 ],
 "metadata": {
  "kernelspec": {
   "display_name": "Python 2",
   "language": "python",
   "name": "python2"
  },
  "language_info": {
   "codemirror_mode": {
    "name": "ipython",
    "version": 2
   },
   "file_extension": ".py",
   "mimetype": "text/x-python",
   "name": "python",
   "nbconvert_exporter": "python",
   "pygments_lexer": "ipython2",
   "version": "2.7.15"
  }
 },
 "nbformat": 4,
 "nbformat_minor": 2
}
